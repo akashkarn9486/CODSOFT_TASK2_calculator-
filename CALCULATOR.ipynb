{
 "cells": [
  {
   "cell_type": "code",
   "execution_count": null,
   "id": "0fb77c3e-a100-4961-80b0-2efc05ef2e60",
   "metadata": {},
   "outputs": [
    {
     "name": "stdout",
     "output_type": "stream",
     "text": [
      "\n",
      "Hello there! I'm your friendly neighborhood calculator.\n",
      "\n",
      "🌟 Welcome to Your Friendly Calculator! 🌟\n",
      "----------------------------------------\n",
      "I can help you with these operations:\n",
      "➕ Addition (type 'add' or '+')\n",
      "➖ Subtraction (type 'subtract' or '-')\n",
      "✖️ Multiplication (type 'multiply' or '*')\n",
      "➗ Division (type 'divide' or '/')\n",
      "📏 Modulus/Remainder (type 'modulus' or '%')\n",
      "💪 Exponentiation (type 'power' or '**')\n",
      "√ Square Root (type 'sqrt') - I'll use the first number\n",
      "🧮 Average (type 'avg') - of two numbers\n",
      "❓ Help (type 'help') - show these options again\n",
      "🚪 Exit (type 'exit' or 'quit')\n",
      "\n",
      "What would you like to do?\n"
     ]
    },
    {
     "name": "stdin",
     "output_type": "stream",
     "text": [
      "Your choice (or 'help' for options):  add\n",
      "Enter your first number:  5\n",
      "Enter your second number:  6\n"
     ]
    },
    {
     "name": "stdout",
     "output_type": "stream",
     "text": [
      "\n",
      "✨ 5.0 plus 6.0 equals 11.0\n"
     ]
    },
    {
     "name": "stdin",
     "output_type": "stream",
     "text": [
      "\n",
      "Would you like to do another calculation? (yes/no):  yes\n"
     ]
    },
    {
     "name": "stdout",
     "output_type": "stream",
     "text": [
      "\n",
      "What would you like to do?\n"
     ]
    },
    {
     "name": "stdin",
     "output_type": "stream",
     "text": [
      "Your choice (or 'help' for options):  sqrt\n",
      "Enter a number to find its square root:  56\n"
     ]
    },
    {
     "name": "stdout",
     "output_type": "stream",
     "text": [
      "The square root of 56.0 is 7.4833\n",
      "\n",
      "What would you like to do?\n"
     ]
    }
   ],
   "source": [
    "def friendly_calculator():\n",
    "    print(\"\\n🌟 Welcome to Your Friendly Calculator! 🌟\")\n",
    "    print(\"----------------------------------------\")\n",
    "    print(\"I can help you with these operations:\")\n",
    "    print(\"➕ Addition (type 'add' or '+')\")\n",
    "    print(\"➖ Subtraction (type 'subtract' or '-')\")\n",
    "    print(\"✖️ Multiplication (type 'multiply' or '*')\")\n",
    "    print(\"➗ Division (type 'divide' or '/')\")\n",
    "    print(\"📏 Modulus/Remainder (type 'modulus' or '%')\")\n",
    "    print(\"💪 Exponentiation (type 'power' or '**')\")\n",
    "    print(\"√ Square Root (type 'sqrt') - I'll use the first number\")\n",
    "    print(\"🧮 Average (type 'avg') - of two numbers\")\n",
    "    print(\"❓ Help (type 'help') - show these options again\")\n",
    "    print(\"🚪 Exit (type 'exit' or 'quit')\")\n",
    "    \n",
    "    while True:\n",
    "        print(\"\\nWhat would you like to do?\")\n",
    "        \n",
    "        try:\n",
    "            # Get user input in a friendly way\n",
    "            user_input = input(\"Your choice (or 'help' for options): \").lower().strip()\n",
    "            \n",
    "            # Exit condition\n",
    "            if user_input in ['exit', 'quit', 'q']:\n",
    "                print(\"\\n👋 Goodbye! Thanks for using me. Have a great day!\")\n",
    "                break\n",
    "                \n",
    "            # Show help\n",
    "            if user_input in ['help', 'h', '?']:\n",
    "                friendly_calculator()\n",
    "                continue\n",
    "                \n",
    "            # For square root, we only need one number\n",
    "            if user_input == 'sqrt':\n",
    "                num = float(input(\"Enter a number to find its square root: \"))\n",
    "                if num < 0:\n",
    "                    print(\"Oops! I can't find the square root of a negative number.\")\n",
    "                else:\n",
    "                    result = num ** 0.5\n",
    "                    print(f\"The square root of {num} is {result:.4f}\")\n",
    "                continue\n",
    "                \n",
    "            # For other operations, we need two numbers\n",
    "            num1 = float(input(\"Enter your first number: \"))\n",
    "            num2 = float(input(\"Enter your second number: \"))\n",
    "            \n",
    "            # Perform the calculation with friendly messages\n",
    "            if user_input in ['add', '+', 'addition']:\n",
    "                result = num1 + num2\n",
    "                print(f\"\\n✨ {num1} plus {num2} equals {result}\")\n",
    "                \n",
    "            elif user_input in ['subtract', '-', 'subtraction']:\n",
    "                result = num1 - num2\n",
    "                print(f\"\\n✨ {num1} minus {num2} equals {result}\")\n",
    "                \n",
    "            elif user_input in ['multiply', '*', 'multiplication']:\n",
    "                result = num1 * num2\n",
    "                print(f\"\\n✨ {num1} multiplied by {num2} equals {result}\")\n",
    "                \n",
    "            elif user_input in ['divide', '/', 'division']:\n",
    "                if num2 == 0:\n",
    "                    print(\"\\n⚠️ Oh dear! I can't divide by zero. That's mathematically impossible!\")\n",
    "                else:\n",
    "                    result = num1 / num2\n",
    "                    print(f\"\\n✨ {num1} divided by {num2} equals {result:.4f}\")\n",
    "                    \n",
    "            elif user_input in ['modulus', '%', 'remainder']:\n",
    "                if num2 == 0:\n",
    "                    print(\"\\n⚠️ Sorry, I can't find a remainder when dividing by zero!\")\n",
    "                else:\n",
    "                    result = num1 % num2\n",
    "                    print(f\"\\n✨ The remainder when {num1} is divided by {num2} is {result}\")\n",
    "                    \n",
    "            elif user_input in ['power', '**', 'exponent']:\n",
    "                result = num1 ** num2\n",
    "                print(f\"\\n✨ {num1} to the power of {num2} equals {result}\")\n",
    "                \n",
    "            elif user_input in ['avg', 'average', 'mean']:\n",
    "                result = (num1 + num2) / 2\n",
    "                print(f\"\\n✨ The average of {num1} and {num2} is {result:.2f}\")\n",
    "                \n",
    "            else:\n",
    "                print(\"\\n🤔 I didn't understand that. Type 'help' to see what I can do!\")\n",
    "                \n",
    "            # Offer to continue\n",
    "            continue_calc = input(\"\\nWould you like to do another calculation? (yes/no): \").lower()\n",
    "            if continue_calc not in ['yes', 'y', 'yeah', 'sure']:\n",
    "                print(\"\\n👋 Thanks for calculating with me! Come back anytime!\")\n",
    "                break\n",
    "                \n",
    "        except ValueError:\n",
    "            print(\"\\n⚠️ Oops! That doesn't look like a valid number. Let's try again!\")\n",
    "        except Exception as e:\n",
    "            print(f\"\\n😅 Oh no! Something went wrong: {e}. Let's try that again.\")\n",
    "\n",
    "# Start the calculator with a friendly message\n",
    "print(\"\\nHello there! I'm your friendly neighborhood calculator.\")\n",
    "friendly_calculator()"
   ]
  },
  {
   "cell_type": "code",
   "execution_count": null,
   "id": "868b1d39-2e47-4df1-a606-6a1a5c01912b",
   "metadata": {},
   "outputs": [],
   "source": []
  }
 ],
 "metadata": {
  "kernelspec": {
   "display_name": "Python [conda env:base] *",
   "language": "python",
   "name": "conda-base-py"
  },
  "language_info": {
   "codemirror_mode": {
    "name": "ipython",
    "version": 3
   },
   "file_extension": ".py",
   "mimetype": "text/x-python",
   "name": "python",
   "nbconvert_exporter": "python",
   "pygments_lexer": "ipython3",
   "version": "3.12.7"
  }
 },
 "nbformat": 4,
 "nbformat_minor": 5
}
